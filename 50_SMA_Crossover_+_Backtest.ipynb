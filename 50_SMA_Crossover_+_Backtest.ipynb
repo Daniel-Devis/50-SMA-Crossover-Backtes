{
  "nbformat": 4,
  "nbformat_minor": 0,
  "metadata": {
    "colab": {
      "provenance": [],
      "include_colab_link": true
    },
    "kernelspec": {
      "name": "python3",
      "display_name": "Python 3"
    },
    "language_info": {
      "name": "python"
    }
  },
  "cells": [
    {
      "cell_type": "markdown",
      "metadata": {
        "id": "view-in-github",
        "colab_type": "text"
      },
      "source": [
        "<a href=\"https://colab.research.google.com/github/Daniel-Devis/50-SMA-Crossover-Backtes/blob/main/50_SMA_Crossover_%2B_Backtest.ipynb\" target=\"_parent\"><img src=\"https://colab.research.google.com/assets/colab-badge.svg\" alt=\"Open In Colab\"/></a>"
      ]
    },
    {
      "cell_type": "code",
      "execution_count": null,
      "metadata": {
        "id": "lQ_n-AtidgZg"
      },
      "outputs": [],
      "source": [
        "from datetime import datetime\n",
        "import backtrader as bt\n",
        "import backtrader.analyzers as btanalyzers\n",
        "\n",
        "# SMA Crossover Strategy\n",
        "class SmaCross(bt.SignalStrategy):\n",
        "    def __init__(self):\n",
        "        sma = bt.ind.SMA(period=50)  # Define a 20-period simple moving average\n",
        "        price = self.data  # Get the price data\n",
        "        crossover = bt.ind.CrossOver(price, sma)  # Define a crossover signal between price and SMA\n",
        "        self.signal_add(bt.SIGNAL_LONG, crossover)  # Add a signal to go long when crossover occurs\n",
        "\n",
        "cerebro = bt.Cerebro()  # Create a cerebro engine for backtesting\n",
        "\n",
        "cerebro.addstrategy(SmaCross)  # Add the SmaCross strategy to the cerebro engine\n",
        "\n",
        "# this is how I use manually pulled data from yahoo finance, probably the one I use for now\n",
        "data = bt.feeds.YahooFinanceCSVData(\n",
        "    dataname='/Applications/Quant /BTC-USD Data csv.csv',\n",
        "    fromdate=datetime(2019, 3, 3),  # Start date for the data\n",
        "    todate=datetime(2024, 3, 3),  # End date for the data\n",
        "    reverse=False  # Do not reverse the data order\n",
        ")\n",
        "\n",
        "# this sets the cash amount to the back test\n",
        "cerebro.broker.set_cash(1000000)  # Set initial cash amount to $1,000,000\n",
        "\n",
        "cerebro.broker.setcommission(commission=0.001)  # Set the commission rate to 0.1%\n",
        "\n",
        "cerebro.adddata(data)  # Add the data to the cerebro engine\n",
        "\n",
        "cerebro.addsizer(bt.sizers.AllInSizer, percents=95)  # Set the sizer to go all in with 95% of available cash\n",
        "\n",
        "cerebro.addanalyzer(btanalyzers.SharpeRatio, _name='sharpe')  # Add Sharpe Ratio analyzer\n",
        "# this is the transactions analyzer\n",
        "cerebro.addanalyzer(btanalyzers.Transactions, _name='tx')  # Add Transactions analyzer\n",
        "# this is the trade analyzer\n",
        "cerebro.addanalyzer(btanalyzers.TradeAnalyzer, _name='trades')  # Add Trade Analyzer\n",
        "\n",
        "# run the backtest\n",
        "back = cerebro.run()  # Execute the backtest\n",
        "\n",
        "# get the initial portfolio value\n",
        "initial_value = cerebro.broker.startingcash  # Get the initial portfolio value\n",
        "\n",
        "final_value = cerebro.broker.getvalue()  # Get the final portfolio value\n",
        "\n",
        "sharpe = back[0].analyzers.sharpe.get_analysis()  # Get the Sharpe ratio from the analyzer\n",
        "\n",
        "# get the transaction details\n",
        "txs = back[0].analyzers.tx.get_analysis()  # Get transaction details\n",
        "\n",
        "# get the number of transactions\n",
        "txamount = len(txs)  # Get the number of transactions\n",
        "\n",
        "# ROI\n",
        "roi = (final_value - initial_value) / initial_value * 100  # Calculate ROI\n",
        "\n",
        "# print the results\n",
        "print(f\"Sharpe ratio: {sharpe}\")  # Print the Sharpe ratio\n",
        "print(f\"Number of transactions: {txamount}\")  # Print the number of transactions\n",
        "print(f\"Initial value: {initial_value}\")  # Print the initial portfolio value\n",
        "print(f\"Final value: {final_value}\")  # Print the final portfolio value\n",
        "print(f\"ROI: {roi:.2f}%\")  # Print the ROI\n",
        "\n",
        "# this plots the backtest\n",
        "cerebro.plot()  # Plot the backtest results\n"
      ]
    }
  ]
}